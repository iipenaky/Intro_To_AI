{
 "cells": [
  {
   "cell_type": "markdown",
   "id": "2935684b-2d52-4dbe-bd22-627a623cd103",
   "metadata": {},
   "source": [
    "# Data Prep & Data Analysis"
   ]
  },
  {
   "cell_type": "markdown",
   "id": "cf86b1e0-ca96-4422-985b-d2069e07b6b0",
   "metadata": {},
   "source": [
    "### Question 1: Web Scrapping"
   ]
  },
  {
   "cell_type": "code",
   "execution_count": 1,
   "id": "9c809762-5daa-4bcb-a25b-73a6b0222a9d",
   "metadata": {},
   "outputs": [],
   "source": [
    "import requests\n",
    "from bs4 import BeautifulSoup\n",
    "import pandas as pd\n",
    "from datetime import datetime\n",
    "import matplotlib.pyplot as plt"
   ]
  },
  {
   "cell_type": "code",
   "execution_count": 2,
   "id": "19beded9-73ce-4d52-8804-5e3836a5a047",
   "metadata": {},
   "outputs": [],
   "source": [
    "url = \"https://en.wikipedia.org/wiki/List_of_presidents_of_the_United_States\""
   ]
  },
  {
   "cell_type": "code",
   "execution_count": 3,
   "id": "9b002928-51b4-455d-b408-467e28fd12b1",
   "metadata": {},
   "outputs": [],
   "source": [
    "response = requests.get(url)"
   ]
  },
  {
   "cell_type": "code",
   "execution_count": 4,
   "id": "14da5944-7865-4503-9744-1a3552bc7f1e",
   "metadata": {},
   "outputs": [],
   "source": [
    "soup = BeautifulSoup(response.content, 'html.parser')"
   ]
  },
  {
   "cell_type": "code",
   "execution_count": 5,
   "id": "dad2aeaa-baa3-4719-a7fd-e439a9d0f6f7",
   "metadata": {},
   "outputs": [],
   "source": [
    "presidents_table = soup.find('table', class_='wikitable')"
   ]
  },
  {
   "cell_type": "code",
   "execution_count": 6,
   "id": "9101ab7f-6421-49f4-8d43-dfc22ed226ee",
   "metadata": {},
   "outputs": [],
   "source": [
    "titles =presidents_table.find_all('th')[:7]"
   ]
  },
  {
   "cell_type": "code",
   "execution_count": 7,
   "id": "39099860-07e9-4d2d-80c4-9c358e5b32f4",
   "metadata": {},
   "outputs": [],
   "source": [
    "numbers = presidents_table.find_all('th')[7:]\n",
    "number = [ numb.text.strip() for numb in numbers ]"
   ]
  },
  {
   "cell_type": "code",
   "execution_count": 8,
   "id": "eec6b4df-04da-4971-bfea-442c4b00a374",
   "metadata": {},
   "outputs": [],
   "source": [
    "tit = [ title.text.strip() for title in titles ]"
   ]
  },
  {
   "cell_type": "code",
   "execution_count": 9,
   "id": "1ba74e37-7f16-4ff9-91e3-7ecf114a8597",
   "metadata": {},
   "outputs": [],
   "source": [
    "column_data = presidents_table.find_all('tr')"
   ]
  },
  {
   "cell_type": "code",
   "execution_count": 10,
   "id": "76a98308-171e-4787-9385-d58aa6a900ca",
   "metadata": {},
   "outputs": [],
   "source": [
    "images = presidents_table.find_all('img')"
   ]
  },
  {
   "cell_type": "code",
   "execution_count": 11,
   "id": "78047c16-48fa-4011-81dd-48972d0c8966",
   "metadata": {},
   "outputs": [],
   "source": [
    "image_urls = [img['src'] for img in images]"
   ]
  },
  {
   "cell_type": "code",
   "execution_count": 12,
   "id": "d94df962-1794-4998-b2b5-c325339df24d",
   "metadata": {},
   "outputs": [],
   "source": [
    "dates = []\n",
    "names = []\n",
    "vices = []\n",
    "elect = []\n",
    "part = []"
   ]
  },
  {
   "cell_type": "code",
   "execution_count": 13,
   "id": "7a8638eb-7be4-446a-8ad9-ba3a6fbda4e2",
   "metadata": {},
   "outputs": [],
   "source": [
    "for row in column_data[1:]:\n",
    "    row_data = row.find_all('td')\n",
    "    individual_row = [data.text.strip() for data in row_data]\n",
    "    dates.append(individual_row[2])\n",
    "    names.append(individual_row[1])\n",
    "    vices.append(individual_row[6])\n",
    "    elect.append(individual_row[5])\n",
    "    part.append(individual_row[4])"
   ]
  },
  {
   "cell_type": "code",
   "execution_count": 14,
   "id": "5cff07b2-1ebb-418a-ae07-b21eb9871a93",
   "metadata": {},
   "outputs": [],
   "source": [
    "data = {tit[0]: number, tit[1]: image_urls, tit[2]: names, tit[3]: dates, tit[4]:part,tit[5]:elect, tit[6]:vices }"
   ]
  },
  {
   "cell_type": "code",
   "execution_count": 15,
   "id": "78776589-0d94-4dae-9383-4c4751a6202c",
   "metadata": {},
   "outputs": [],
   "source": [
    "presidents_df = pd.DataFrame(data)"
   ]
  },
  {
   "cell_type": "code",
   "execution_count": 16,
   "id": "16da91e3-c9a6-405b-be51-d0b564ea4952",
   "metadata": {},
   "outputs": [
    {
     "data": {
      "text/html": [
       "<div>\n",
       "<style scoped>\n",
       "    .dataframe tbody tr th:only-of-type {\n",
       "        vertical-align: middle;\n",
       "    }\n",
       "\n",
       "    .dataframe tbody tr th {\n",
       "        vertical-align: top;\n",
       "    }\n",
       "\n",
       "    .dataframe thead th {\n",
       "        text-align: right;\n",
       "    }\n",
       "</style>\n",
       "<table border=\"1\" class=\"dataframe\">\n",
       "  <thead>\n",
       "    <tr style=\"text-align: right;\">\n",
       "      <th></th>\n",
       "      <th>No.[a]</th>\n",
       "      <th>Portrait</th>\n",
       "      <th>Name(Birth–Death)</th>\n",
       "      <th>Term[14]</th>\n",
       "      <th>Party[b][15]</th>\n",
       "      <th>Election</th>\n",
       "      <th>Vice President[16]</th>\n",
       "    </tr>\n",
       "  </thead>\n",
       "  <tbody>\n",
       "    <tr>\n",
       "      <th>0</th>\n",
       "      <td>1</td>\n",
       "      <td>//upload.wikimedia.org/wikipedia/commons/thumb...</td>\n",
       "      <td>George Washington(1732–1799)[17]</td>\n",
       "      <td>April 30, 1789–March 4, 1797</td>\n",
       "      <td>Unaffiliated</td>\n",
       "      <td>1788–1789\\n\\n1792</td>\n",
       "      <td>John Adams[c]</td>\n",
       "    </tr>\n",
       "    <tr>\n",
       "      <th>1</th>\n",
       "      <td>2</td>\n",
       "      <td>//upload.wikimedia.org/wikipedia/commons/thumb...</td>\n",
       "      <td>John Adams(1735–1826)[19]</td>\n",
       "      <td>March 4, 1797–March 4, 1801</td>\n",
       "      <td>Federalist</td>\n",
       "      <td>1796</td>\n",
       "      <td>Thomas Jefferson[d]</td>\n",
       "    </tr>\n",
       "    <tr>\n",
       "      <th>2</th>\n",
       "      <td>3</td>\n",
       "      <td>//upload.wikimedia.org/wikipedia/commons/thumb...</td>\n",
       "      <td>Thomas Jefferson(1743–1826)[21]</td>\n",
       "      <td>March 4, 1801–March 4, 1809</td>\n",
       "      <td>Democratic-Republican</td>\n",
       "      <td>1800\\n\\n1804</td>\n",
       "      <td>Aaron Burr\\n\\nGeorge Clinton</td>\n",
       "    </tr>\n",
       "    <tr>\n",
       "      <th>3</th>\n",
       "      <td>4</td>\n",
       "      <td>//upload.wikimedia.org/wikipedia/commons/thumb...</td>\n",
       "      <td>James Madison(1751–1836)[22]</td>\n",
       "      <td>March 4, 1809–March 4, 1817</td>\n",
       "      <td>Democratic-Republican</td>\n",
       "      <td>1808\\n\\n1812</td>\n",
       "      <td>George Clinton[e]\\n\\nVacant afterApril 20, 181...</td>\n",
       "    </tr>\n",
       "    <tr>\n",
       "      <th>4</th>\n",
       "      <td>5</td>\n",
       "      <td>//upload.wikimedia.org/wikipedia/commons/thumb...</td>\n",
       "      <td>James Monroe(1758–1831)[24]</td>\n",
       "      <td>March 4, 1817–March 4, 1825</td>\n",
       "      <td>Democratic-Republican</td>\n",
       "      <td>1816\\n\\n1820</td>\n",
       "      <td>Daniel D. Tompkins</td>\n",
       "    </tr>\n",
       "    <tr>\n",
       "      <th>5</th>\n",
       "      <td>6</td>\n",
       "      <td>//upload.wikimedia.org/wikipedia/commons/thumb...</td>\n",
       "      <td>John Quincy Adams(1767–1848)[25]</td>\n",
       "      <td>March 4, 1825–March 4, 1829</td>\n",
       "      <td>Democratic-Republican[f]\\n\\nNational Republican</td>\n",
       "      <td>1824</td>\n",
       "      <td>John C. Calhoun[g]</td>\n",
       "    </tr>\n",
       "    <tr>\n",
       "      <th>6</th>\n",
       "      <td>7</td>\n",
       "      <td>//upload.wikimedia.org/wikipedia/commons/thumb...</td>\n",
       "      <td>Andrew Jackson(1767–1845)[28]</td>\n",
       "      <td>March 4, 1829–March 4, 1837</td>\n",
       "      <td>Democratic</td>\n",
       "      <td>1828\\n\\n1832</td>\n",
       "      <td>John C. Calhoun[h]\\n\\nVacant afterDecember 28,...</td>\n",
       "    </tr>\n",
       "    <tr>\n",
       "      <th>7</th>\n",
       "      <td>8</td>\n",
       "      <td>//upload.wikimedia.org/wikipedia/commons/thumb...</td>\n",
       "      <td>Martin Van Buren(1782–1862)[29]</td>\n",
       "      <td>March 4, 1837–March 4, 1841</td>\n",
       "      <td>Democratic</td>\n",
       "      <td>1836</td>\n",
       "      <td>Richard Mentor Johnson</td>\n",
       "    </tr>\n",
       "    <tr>\n",
       "      <th>8</th>\n",
       "      <td>9</td>\n",
       "      <td>//upload.wikimedia.org/wikipedia/commons/thumb...</td>\n",
       "      <td>William Henry Harrison(1773–1841)[30]</td>\n",
       "      <td>March 4, 1841–April 4, 1841[e]</td>\n",
       "      <td>Whig</td>\n",
       "      <td>1840</td>\n",
       "      <td>John Tyler</td>\n",
       "    </tr>\n",
       "    <tr>\n",
       "      <th>9</th>\n",
       "      <td>10</td>\n",
       "      <td>//upload.wikimedia.org/wikipedia/commons/thumb...</td>\n",
       "      <td>John Tyler(1790–1862)[31]</td>\n",
       "      <td>April 4, 1841[i]–March 4, 1845</td>\n",
       "      <td>Whig[j]\\n\\nUnaffiliated</td>\n",
       "      <td>–</td>\n",
       "      <td>Vacant throughoutpresidency</td>\n",
       "    </tr>\n",
       "    <tr>\n",
       "      <th>10</th>\n",
       "      <td>11</td>\n",
       "      <td>//upload.wikimedia.org/wikipedia/commons/thumb...</td>\n",
       "      <td>James K. Polk(1795–1849)[34]</td>\n",
       "      <td>March 4, 1845–March 4, 1849</td>\n",
       "      <td>Democratic</td>\n",
       "      <td>1844</td>\n",
       "      <td>George M. Dallas</td>\n",
       "    </tr>\n",
       "    <tr>\n",
       "      <th>11</th>\n",
       "      <td>12</td>\n",
       "      <td>//upload.wikimedia.org/wikipedia/commons/thumb...</td>\n",
       "      <td>Zachary Taylor(1784–1850)[35]</td>\n",
       "      <td>March 4, 1849–July 9, 1850[e]</td>\n",
       "      <td>Whig</td>\n",
       "      <td>1848</td>\n",
       "      <td>Millard Fillmore</td>\n",
       "    </tr>\n",
       "    <tr>\n",
       "      <th>12</th>\n",
       "      <td>13</td>\n",
       "      <td>//upload.wikimedia.org/wikipedia/commons/thumb...</td>\n",
       "      <td>Millard Fillmore(1800–1874)[36]</td>\n",
       "      <td>July 9, 1850[k]–March 4, 1853</td>\n",
       "      <td>Whig</td>\n",
       "      <td>–</td>\n",
       "      <td>Vacant throughoutpresidency</td>\n",
       "    </tr>\n",
       "    <tr>\n",
       "      <th>13</th>\n",
       "      <td>14</td>\n",
       "      <td>//upload.wikimedia.org/wikipedia/commons/thumb...</td>\n",
       "      <td>Franklin Pierce(1804–1869)[38]</td>\n",
       "      <td>March 4, 1853–March 4, 1857</td>\n",
       "      <td>Democratic</td>\n",
       "      <td>1852</td>\n",
       "      <td>William R. King[e]\\n\\nVacant afterApril 18, 1853</td>\n",
       "    </tr>\n",
       "    <tr>\n",
       "      <th>14</th>\n",
       "      <td>15</td>\n",
       "      <td>//upload.wikimedia.org/wikipedia/commons/thumb...</td>\n",
       "      <td>James Buchanan(1791–1868)[39]</td>\n",
       "      <td>March 4, 1857–March 4, 1861</td>\n",
       "      <td>Democratic</td>\n",
       "      <td>1856</td>\n",
       "      <td>John C. Breckinridge</td>\n",
       "    </tr>\n",
       "    <tr>\n",
       "      <th>15</th>\n",
       "      <td>16</td>\n",
       "      <td>//upload.wikimedia.org/wikipedia/commons/thumb...</td>\n",
       "      <td>Abraham Lincoln(1809–1865)[40]</td>\n",
       "      <td>March 4, 1861–April 15, 1865[e]</td>\n",
       "      <td>Republican\\n\\nNational Union[l]</td>\n",
       "      <td>1860\\n\\n1864</td>\n",
       "      <td>Hannibal Hamlin\\n\\nAndrew Johnson</td>\n",
       "    </tr>\n",
       "    <tr>\n",
       "      <th>16</th>\n",
       "      <td>17</td>\n",
       "      <td>//upload.wikimedia.org/wikipedia/commons/thumb...</td>\n",
       "      <td>Andrew Johnson(1808–1875)[42]</td>\n",
       "      <td>April 15, 1865[m]–March 4, 1869</td>\n",
       "      <td>National Union[n]\\n\\nDemocratic</td>\n",
       "      <td>–</td>\n",
       "      <td>Vacant throughoutpresidency</td>\n",
       "    </tr>\n",
       "    <tr>\n",
       "      <th>17</th>\n",
       "      <td>18</td>\n",
       "      <td>//upload.wikimedia.org/wikipedia/commons/thumb...</td>\n",
       "      <td>Ulysses S. Grant(1822–1885)[43]</td>\n",
       "      <td>March 4, 1869–March 4, 1877</td>\n",
       "      <td>Republican</td>\n",
       "      <td>1868\\n\\n1872</td>\n",
       "      <td>Schuyler Colfax\\n\\nHenry Wilson[e]\\n\\n\\nVacant...</td>\n",
       "    </tr>\n",
       "    <tr>\n",
       "      <th>18</th>\n",
       "      <td>19</td>\n",
       "      <td>//upload.wikimedia.org/wikipedia/commons/thumb...</td>\n",
       "      <td>Rutherford B. Hayes(1822–1893)[44]</td>\n",
       "      <td>March 4, 1877–March 4, 1881</td>\n",
       "      <td>Republican</td>\n",
       "      <td>1876</td>\n",
       "      <td>William A. Wheeler</td>\n",
       "    </tr>\n",
       "    <tr>\n",
       "      <th>19</th>\n",
       "      <td>20</td>\n",
       "      <td>//upload.wikimedia.org/wikipedia/commons/thumb...</td>\n",
       "      <td>James A. Garfield(1831–1881)[45]</td>\n",
       "      <td>March 4, 1881–September 19, 1881[e]</td>\n",
       "      <td>Republican</td>\n",
       "      <td>1880</td>\n",
       "      <td>Chester A. Arthur</td>\n",
       "    </tr>\n",
       "    <tr>\n",
       "      <th>20</th>\n",
       "      <td>21</td>\n",
       "      <td>//upload.wikimedia.org/wikipedia/commons/thumb...</td>\n",
       "      <td>Chester A. Arthur(1829–1886)[46]</td>\n",
       "      <td>September 19, 1881[o]–March 4, 1885</td>\n",
       "      <td>Republican</td>\n",
       "      <td>–</td>\n",
       "      <td>Vacant throughoutpresidency</td>\n",
       "    </tr>\n",
       "    <tr>\n",
       "      <th>21</th>\n",
       "      <td>22</td>\n",
       "      <td>//upload.wikimedia.org/wikipedia/commons/thumb...</td>\n",
       "      <td>Grover Cleveland(1837–1908)[48]</td>\n",
       "      <td>March 4, 1885–March 4, 1889</td>\n",
       "      <td>Democratic</td>\n",
       "      <td>1884</td>\n",
       "      <td>Thomas A. Hendricks[e]\\n\\nVacant afterNovember...</td>\n",
       "    </tr>\n",
       "    <tr>\n",
       "      <th>22</th>\n",
       "      <td>23</td>\n",
       "      <td>//upload.wikimedia.org/wikipedia/commons/thumb...</td>\n",
       "      <td>Benjamin Harrison(1833–1901)[49]</td>\n",
       "      <td>March 4, 1889–March 4, 1893</td>\n",
       "      <td>Republican</td>\n",
       "      <td>1888</td>\n",
       "      <td>Levi P. Morton</td>\n",
       "    </tr>\n",
       "    <tr>\n",
       "      <th>23</th>\n",
       "      <td>24</td>\n",
       "      <td>//upload.wikimedia.org/wikipedia/commons/thumb...</td>\n",
       "      <td>Grover Cleveland(1837–1908)[48]</td>\n",
       "      <td>March 4, 1893–March 4, 1897</td>\n",
       "      <td>Democratic</td>\n",
       "      <td>1892</td>\n",
       "      <td>Adlai Stevenson I</td>\n",
       "    </tr>\n",
       "    <tr>\n",
       "      <th>24</th>\n",
       "      <td>25</td>\n",
       "      <td>//upload.wikimedia.org/wikipedia/commons/thumb...</td>\n",
       "      <td>William McKinley(1843–1901)[50]</td>\n",
       "      <td>March 4, 1897–September 14, 1901[e]</td>\n",
       "      <td>Republican</td>\n",
       "      <td>1896\\n\\n1900</td>\n",
       "      <td>Garret Hobart[e]\\n\\nVacant afterNovember 21, 1...</td>\n",
       "    </tr>\n",
       "    <tr>\n",
       "      <th>25</th>\n",
       "      <td>26</td>\n",
       "      <td>//upload.wikimedia.org/wikipedia/commons/thumb...</td>\n",
       "      <td>Theodore Roosevelt(1858–1919)[51]</td>\n",
       "      <td>September 14, 1901[p]–March 4, 1909</td>\n",
       "      <td>Republican</td>\n",
       "      <td>–\\n\\n1904</td>\n",
       "      <td>Vacant throughMarch 4, 1905\\n\\nCharles W. Fair...</td>\n",
       "    </tr>\n",
       "    <tr>\n",
       "      <th>26</th>\n",
       "      <td>27</td>\n",
       "      <td>//upload.wikimedia.org/wikipedia/commons/thumb...</td>\n",
       "      <td>William Howard Taft(1857–1930)[53]</td>\n",
       "      <td>March 4, 1909–March 4, 1913</td>\n",
       "      <td>Republican</td>\n",
       "      <td>1908</td>\n",
       "      <td>James S. Sherman[e]\\n\\nVacant afterOctober 30,...</td>\n",
       "    </tr>\n",
       "    <tr>\n",
       "      <th>27</th>\n",
       "      <td>28</td>\n",
       "      <td>//upload.wikimedia.org/wikipedia/commons/thumb...</td>\n",
       "      <td>Woodrow Wilson(1856–1924)[54]</td>\n",
       "      <td>March 4, 1913–March 4, 1921</td>\n",
       "      <td>Democratic</td>\n",
       "      <td>1912\\n\\n1916</td>\n",
       "      <td>Thomas R. Marshall</td>\n",
       "    </tr>\n",
       "    <tr>\n",
       "      <th>28</th>\n",
       "      <td>29</td>\n",
       "      <td>//upload.wikimedia.org/wikipedia/commons/thumb...</td>\n",
       "      <td>Warren G. Harding(1865–1923)[55]</td>\n",
       "      <td>March 4, 1921–August 2, 1923[e]</td>\n",
       "      <td>Republican</td>\n",
       "      <td>1920</td>\n",
       "      <td>Calvin Coolidge</td>\n",
       "    </tr>\n",
       "    <tr>\n",
       "      <th>29</th>\n",
       "      <td>30</td>\n",
       "      <td>//upload.wikimedia.org/wikipedia/commons/thumb...</td>\n",
       "      <td>Calvin Coolidge(1872–1933)[56]</td>\n",
       "      <td>August 2, 1923[q]–March 4, 1929</td>\n",
       "      <td>Republican</td>\n",
       "      <td>–\\n\\n1924</td>\n",
       "      <td>Vacant throughMarch 4, 1925\\n\\nCharles G. Dawes</td>\n",
       "    </tr>\n",
       "    <tr>\n",
       "      <th>30</th>\n",
       "      <td>31</td>\n",
       "      <td>//upload.wikimedia.org/wikipedia/commons/thumb...</td>\n",
       "      <td>Herbert Hoover(1874–1964)[58]</td>\n",
       "      <td>March 4, 1929–March 4, 1933</td>\n",
       "      <td>Republican</td>\n",
       "      <td>1928</td>\n",
       "      <td>Charles Curtis</td>\n",
       "    </tr>\n",
       "    <tr>\n",
       "      <th>31</th>\n",
       "      <td>32</td>\n",
       "      <td>//upload.wikimedia.org/wikipedia/commons/thumb...</td>\n",
       "      <td>Franklin D. Roosevelt(1882–1945)[59]</td>\n",
       "      <td>March 4, 1933–April 12, 1945[e]</td>\n",
       "      <td>Democratic</td>\n",
       "      <td>1932\\n\\n1936\\n\\n\\n1940\\n\\n\\n1944</td>\n",
       "      <td>John Nance Garner\\n\\nHenry A. Wallace\\n\\n\\nHar...</td>\n",
       "    </tr>\n",
       "    <tr>\n",
       "      <th>32</th>\n",
       "      <td>33</td>\n",
       "      <td>//upload.wikimedia.org/wikipedia/commons/thumb...</td>\n",
       "      <td>Harry S. Truman(1884–1972)[60]</td>\n",
       "      <td>April 12, 1945[r]–January 20, 1953</td>\n",
       "      <td>Democratic</td>\n",
       "      <td>–\\n\\n1948</td>\n",
       "      <td>Vacant throughJanuary 20, 1949\\n\\nAlben W. Bar...</td>\n",
       "    </tr>\n",
       "    <tr>\n",
       "      <th>33</th>\n",
       "      <td>34</td>\n",
       "      <td>//upload.wikimedia.org/wikipedia/commons/thumb...</td>\n",
       "      <td>Dwight D. Eisenhower(1890–1969)[62]</td>\n",
       "      <td>January 20, 1953–January 20, 1961</td>\n",
       "      <td>Republican</td>\n",
       "      <td>1952\\n\\n1956</td>\n",
       "      <td>Richard Nixon</td>\n",
       "    </tr>\n",
       "    <tr>\n",
       "      <th>34</th>\n",
       "      <td>35</td>\n",
       "      <td>//upload.wikimedia.org/wikipedia/commons/thumb...</td>\n",
       "      <td>John F. Kennedy(1917–1963)[63]</td>\n",
       "      <td>January 20, 1961–November 22, 1963[e]</td>\n",
       "      <td>Democratic</td>\n",
       "      <td>1960</td>\n",
       "      <td>Lyndon B. Johnson</td>\n",
       "    </tr>\n",
       "    <tr>\n",
       "      <th>35</th>\n",
       "      <td>36</td>\n",
       "      <td>//upload.wikimedia.org/wikipedia/commons/thumb...</td>\n",
       "      <td>Lyndon B. Johnson(1908–1973)[64]</td>\n",
       "      <td>November 22, 1963[s]–January 20, 1969</td>\n",
       "      <td>Democratic</td>\n",
       "      <td>–\\n\\n1964</td>\n",
       "      <td>Vacant throughJanuary 20, 1965\\n\\nHubert Humphrey</td>\n",
       "    </tr>\n",
       "    <tr>\n",
       "      <th>36</th>\n",
       "      <td>37</td>\n",
       "      <td>//upload.wikimedia.org/wikipedia/commons/thumb...</td>\n",
       "      <td>Richard Nixon(1913–1994)[66]</td>\n",
       "      <td>January 20, 1969–August 9, 1974[h]</td>\n",
       "      <td>Republican</td>\n",
       "      <td>1968\\n\\n1972</td>\n",
       "      <td>Spiro Agnew[h]\\n\\nVacant:October 10 – December...</td>\n",
       "    </tr>\n",
       "    <tr>\n",
       "      <th>37</th>\n",
       "      <td>38</td>\n",
       "      <td>//upload.wikimedia.org/wikipedia/commons/thumb...</td>\n",
       "      <td>Gerald Ford(1913–2006)[67]</td>\n",
       "      <td>August 9, 1974[u]–January 20, 1977</td>\n",
       "      <td>Republican</td>\n",
       "      <td>–</td>\n",
       "      <td>Vacant throughDecember 19, 1974\\n\\nNelson Rock...</td>\n",
       "    </tr>\n",
       "    <tr>\n",
       "      <th>38</th>\n",
       "      <td>39</td>\n",
       "      <td>//upload.wikimedia.org/wikipedia/commons/thumb...</td>\n",
       "      <td>Jimmy Carter(b. 1924)[68]</td>\n",
       "      <td>January 20, 1977–January 20, 1981</td>\n",
       "      <td>Democratic</td>\n",
       "      <td>1976</td>\n",
       "      <td>Walter Mondale</td>\n",
       "    </tr>\n",
       "    <tr>\n",
       "      <th>39</th>\n",
       "      <td>40</td>\n",
       "      <td>//upload.wikimedia.org/wikipedia/commons/thumb...</td>\n",
       "      <td>Ronald Reagan(1911–2004)[69]</td>\n",
       "      <td>January 20, 1981–January 20, 1989</td>\n",
       "      <td>Republican</td>\n",
       "      <td>1980\\n\\n1984</td>\n",
       "      <td>George H. W. Bush</td>\n",
       "    </tr>\n",
       "    <tr>\n",
       "      <th>40</th>\n",
       "      <td>41</td>\n",
       "      <td>//upload.wikimedia.org/wikipedia/commons/thumb...</td>\n",
       "      <td>George H. W. Bush(1924–2018)[70]</td>\n",
       "      <td>January 20, 1989–January 20, 1993</td>\n",
       "      <td>Republican</td>\n",
       "      <td>1988</td>\n",
       "      <td>Dan Quayle</td>\n",
       "    </tr>\n",
       "    <tr>\n",
       "      <th>41</th>\n",
       "      <td>42</td>\n",
       "      <td>//upload.wikimedia.org/wikipedia/commons/thumb...</td>\n",
       "      <td>Bill Clinton(b. 1946)[71]</td>\n",
       "      <td>January 20, 1993–January 20, 2001</td>\n",
       "      <td>Democratic</td>\n",
       "      <td>1992\\n\\n1996</td>\n",
       "      <td>Al Gore</td>\n",
       "    </tr>\n",
       "    <tr>\n",
       "      <th>42</th>\n",
       "      <td>43</td>\n",
       "      <td>//upload.wikimedia.org/wikipedia/commons/thumb...</td>\n",
       "      <td>George W. Bush(b. 1946)[72]</td>\n",
       "      <td>January 20, 2001–January 20, 2009</td>\n",
       "      <td>Republican</td>\n",
       "      <td>2000\\n\\n2004</td>\n",
       "      <td>Dick Cheney</td>\n",
       "    </tr>\n",
       "    <tr>\n",
       "      <th>43</th>\n",
       "      <td>44</td>\n",
       "      <td>//upload.wikimedia.org/wikipedia/commons/thumb...</td>\n",
       "      <td>Barack Obama(b. 1961)[73]</td>\n",
       "      <td>January 20, 2009–January 20, 2017</td>\n",
       "      <td>Democratic</td>\n",
       "      <td>2008\\n\\n2012</td>\n",
       "      <td>Joe Biden</td>\n",
       "    </tr>\n",
       "    <tr>\n",
       "      <th>44</th>\n",
       "      <td>45</td>\n",
       "      <td>//upload.wikimedia.org/wikipedia/commons/thumb...</td>\n",
       "      <td>Donald Trump(b. 1946)[74]</td>\n",
       "      <td>January 20, 2017–January 20, 2021</td>\n",
       "      <td>Republican</td>\n",
       "      <td>2016</td>\n",
       "      <td>Mike Pence</td>\n",
       "    </tr>\n",
       "    <tr>\n",
       "      <th>45</th>\n",
       "      <td>46</td>\n",
       "      <td>//upload.wikimedia.org/wikipedia/commons/thumb...</td>\n",
       "      <td>Joe Biden(b. 1942)[13]</td>\n",
       "      <td>January 20, 2021–Incumbent</td>\n",
       "      <td>Democratic</td>\n",
       "      <td>2020</td>\n",
       "      <td>Kamala Harris</td>\n",
       "    </tr>\n",
       "  </tbody>\n",
       "</table>\n",
       "</div>"
      ],
      "text/plain": [
       "   No.[a]                                           Portrait  \\\n",
       "0       1  //upload.wikimedia.org/wikipedia/commons/thumb...   \n",
       "1       2  //upload.wikimedia.org/wikipedia/commons/thumb...   \n",
       "2       3  //upload.wikimedia.org/wikipedia/commons/thumb...   \n",
       "3       4  //upload.wikimedia.org/wikipedia/commons/thumb...   \n",
       "4       5  //upload.wikimedia.org/wikipedia/commons/thumb...   \n",
       "5       6  //upload.wikimedia.org/wikipedia/commons/thumb...   \n",
       "6       7  //upload.wikimedia.org/wikipedia/commons/thumb...   \n",
       "7       8  //upload.wikimedia.org/wikipedia/commons/thumb...   \n",
       "8       9  //upload.wikimedia.org/wikipedia/commons/thumb...   \n",
       "9      10  //upload.wikimedia.org/wikipedia/commons/thumb...   \n",
       "10     11  //upload.wikimedia.org/wikipedia/commons/thumb...   \n",
       "11     12  //upload.wikimedia.org/wikipedia/commons/thumb...   \n",
       "12     13  //upload.wikimedia.org/wikipedia/commons/thumb...   \n",
       "13     14  //upload.wikimedia.org/wikipedia/commons/thumb...   \n",
       "14     15  //upload.wikimedia.org/wikipedia/commons/thumb...   \n",
       "15     16  //upload.wikimedia.org/wikipedia/commons/thumb...   \n",
       "16     17  //upload.wikimedia.org/wikipedia/commons/thumb...   \n",
       "17     18  //upload.wikimedia.org/wikipedia/commons/thumb...   \n",
       "18     19  //upload.wikimedia.org/wikipedia/commons/thumb...   \n",
       "19     20  //upload.wikimedia.org/wikipedia/commons/thumb...   \n",
       "20     21  //upload.wikimedia.org/wikipedia/commons/thumb...   \n",
       "21     22  //upload.wikimedia.org/wikipedia/commons/thumb...   \n",
       "22     23  //upload.wikimedia.org/wikipedia/commons/thumb...   \n",
       "23     24  //upload.wikimedia.org/wikipedia/commons/thumb...   \n",
       "24     25  //upload.wikimedia.org/wikipedia/commons/thumb...   \n",
       "25     26  //upload.wikimedia.org/wikipedia/commons/thumb...   \n",
       "26     27  //upload.wikimedia.org/wikipedia/commons/thumb...   \n",
       "27     28  //upload.wikimedia.org/wikipedia/commons/thumb...   \n",
       "28     29  //upload.wikimedia.org/wikipedia/commons/thumb...   \n",
       "29     30  //upload.wikimedia.org/wikipedia/commons/thumb...   \n",
       "30     31  //upload.wikimedia.org/wikipedia/commons/thumb...   \n",
       "31     32  //upload.wikimedia.org/wikipedia/commons/thumb...   \n",
       "32     33  //upload.wikimedia.org/wikipedia/commons/thumb...   \n",
       "33     34  //upload.wikimedia.org/wikipedia/commons/thumb...   \n",
       "34     35  //upload.wikimedia.org/wikipedia/commons/thumb...   \n",
       "35     36  //upload.wikimedia.org/wikipedia/commons/thumb...   \n",
       "36     37  //upload.wikimedia.org/wikipedia/commons/thumb...   \n",
       "37     38  //upload.wikimedia.org/wikipedia/commons/thumb...   \n",
       "38     39  //upload.wikimedia.org/wikipedia/commons/thumb...   \n",
       "39     40  //upload.wikimedia.org/wikipedia/commons/thumb...   \n",
       "40     41  //upload.wikimedia.org/wikipedia/commons/thumb...   \n",
       "41     42  //upload.wikimedia.org/wikipedia/commons/thumb...   \n",
       "42     43  //upload.wikimedia.org/wikipedia/commons/thumb...   \n",
       "43     44  //upload.wikimedia.org/wikipedia/commons/thumb...   \n",
       "44     45  //upload.wikimedia.org/wikipedia/commons/thumb...   \n",
       "45     46  //upload.wikimedia.org/wikipedia/commons/thumb...   \n",
       "\n",
       "                        Name(Birth–Death)  \\\n",
       "0        George Washington(1732–1799)[17]   \n",
       "1               John Adams(1735–1826)[19]   \n",
       "2         Thomas Jefferson(1743–1826)[21]   \n",
       "3            James Madison(1751–1836)[22]   \n",
       "4             James Monroe(1758–1831)[24]   \n",
       "5        John Quincy Adams(1767–1848)[25]   \n",
       "6           Andrew Jackson(1767–1845)[28]   \n",
       "7         Martin Van Buren(1782–1862)[29]   \n",
       "8   William Henry Harrison(1773–1841)[30]   \n",
       "9               John Tyler(1790–1862)[31]   \n",
       "10           James K. Polk(1795–1849)[34]   \n",
       "11          Zachary Taylor(1784–1850)[35]   \n",
       "12        Millard Fillmore(1800–1874)[36]   \n",
       "13         Franklin Pierce(1804–1869)[38]   \n",
       "14          James Buchanan(1791–1868)[39]   \n",
       "15         Abraham Lincoln(1809–1865)[40]   \n",
       "16          Andrew Johnson(1808–1875)[42]   \n",
       "17        Ulysses S. Grant(1822–1885)[43]   \n",
       "18     Rutherford B. Hayes(1822–1893)[44]   \n",
       "19       James A. Garfield(1831–1881)[45]   \n",
       "20       Chester A. Arthur(1829–1886)[46]   \n",
       "21        Grover Cleveland(1837–1908)[48]   \n",
       "22       Benjamin Harrison(1833–1901)[49]   \n",
       "23        Grover Cleveland(1837–1908)[48]   \n",
       "24        William McKinley(1843–1901)[50]   \n",
       "25      Theodore Roosevelt(1858–1919)[51]   \n",
       "26     William Howard Taft(1857–1930)[53]   \n",
       "27          Woodrow Wilson(1856–1924)[54]   \n",
       "28       Warren G. Harding(1865–1923)[55]   \n",
       "29         Calvin Coolidge(1872–1933)[56]   \n",
       "30          Herbert Hoover(1874–1964)[58]   \n",
       "31   Franklin D. Roosevelt(1882–1945)[59]   \n",
       "32         Harry S. Truman(1884–1972)[60]   \n",
       "33    Dwight D. Eisenhower(1890–1969)[62]   \n",
       "34         John F. Kennedy(1917–1963)[63]   \n",
       "35       Lyndon B. Johnson(1908–1973)[64]   \n",
       "36           Richard Nixon(1913–1994)[66]   \n",
       "37             Gerald Ford(1913–2006)[67]   \n",
       "38              Jimmy Carter(b. 1924)[68]   \n",
       "39           Ronald Reagan(1911–2004)[69]   \n",
       "40       George H. W. Bush(1924–2018)[70]   \n",
       "41              Bill Clinton(b. 1946)[71]   \n",
       "42            George W. Bush(b. 1946)[72]   \n",
       "43              Barack Obama(b. 1961)[73]   \n",
       "44              Donald Trump(b. 1946)[74]   \n",
       "45                 Joe Biden(b. 1942)[13]   \n",
       "\n",
       "                                 Term[14]  \\\n",
       "0            April 30, 1789–March 4, 1797   \n",
       "1             March 4, 1797–March 4, 1801   \n",
       "2             March 4, 1801–March 4, 1809   \n",
       "3             March 4, 1809–March 4, 1817   \n",
       "4             March 4, 1817–March 4, 1825   \n",
       "5             March 4, 1825–March 4, 1829   \n",
       "6             March 4, 1829–March 4, 1837   \n",
       "7             March 4, 1837–March 4, 1841   \n",
       "8          March 4, 1841–April 4, 1841[e]   \n",
       "9          April 4, 1841[i]–March 4, 1845   \n",
       "10            March 4, 1845–March 4, 1849   \n",
       "11          March 4, 1849–July 9, 1850[e]   \n",
       "12          July 9, 1850[k]–March 4, 1853   \n",
       "13            March 4, 1853–March 4, 1857   \n",
       "14            March 4, 1857–March 4, 1861   \n",
       "15        March 4, 1861–April 15, 1865[e]   \n",
       "16        April 15, 1865[m]–March 4, 1869   \n",
       "17            March 4, 1869–March 4, 1877   \n",
       "18            March 4, 1877–March 4, 1881   \n",
       "19    March 4, 1881–September 19, 1881[e]   \n",
       "20    September 19, 1881[o]–March 4, 1885   \n",
       "21            March 4, 1885–March 4, 1889   \n",
       "22            March 4, 1889–March 4, 1893   \n",
       "23            March 4, 1893–March 4, 1897   \n",
       "24    March 4, 1897–September 14, 1901[e]   \n",
       "25    September 14, 1901[p]–March 4, 1909   \n",
       "26            March 4, 1909–March 4, 1913   \n",
       "27            March 4, 1913–March 4, 1921   \n",
       "28        March 4, 1921–August 2, 1923[e]   \n",
       "29        August 2, 1923[q]–March 4, 1929   \n",
       "30            March 4, 1929–March 4, 1933   \n",
       "31        March 4, 1933–April 12, 1945[e]   \n",
       "32     April 12, 1945[r]–January 20, 1953   \n",
       "33      January 20, 1953–January 20, 1961   \n",
       "34  January 20, 1961–November 22, 1963[e]   \n",
       "35  November 22, 1963[s]–January 20, 1969   \n",
       "36     January 20, 1969–August 9, 1974[h]   \n",
       "37     August 9, 1974[u]–January 20, 1977   \n",
       "38      January 20, 1977–January 20, 1981   \n",
       "39      January 20, 1981–January 20, 1989   \n",
       "40      January 20, 1989–January 20, 1993   \n",
       "41      January 20, 1993–January 20, 2001   \n",
       "42      January 20, 2001–January 20, 2009   \n",
       "43      January 20, 2009–January 20, 2017   \n",
       "44      January 20, 2017–January 20, 2021   \n",
       "45             January 20, 2021–Incumbent   \n",
       "\n",
       "                                       Party[b][15]  \\\n",
       "0                                      Unaffiliated   \n",
       "1                                        Federalist   \n",
       "2                             Democratic-Republican   \n",
       "3                             Democratic-Republican   \n",
       "4                             Democratic-Republican   \n",
       "5   Democratic-Republican[f]\\n\\nNational Republican   \n",
       "6                                        Democratic   \n",
       "7                                        Democratic   \n",
       "8                                              Whig   \n",
       "9                           Whig[j]\\n\\nUnaffiliated   \n",
       "10                                       Democratic   \n",
       "11                                             Whig   \n",
       "12                                             Whig   \n",
       "13                                       Democratic   \n",
       "14                                       Democratic   \n",
       "15                  Republican\\n\\nNational Union[l]   \n",
       "16                  National Union[n]\\n\\nDemocratic   \n",
       "17                                       Republican   \n",
       "18                                       Republican   \n",
       "19                                       Republican   \n",
       "20                                       Republican   \n",
       "21                                       Democratic   \n",
       "22                                       Republican   \n",
       "23                                       Democratic   \n",
       "24                                       Republican   \n",
       "25                                       Republican   \n",
       "26                                       Republican   \n",
       "27                                       Democratic   \n",
       "28                                       Republican   \n",
       "29                                       Republican   \n",
       "30                                       Republican   \n",
       "31                                       Democratic   \n",
       "32                                       Democratic   \n",
       "33                                       Republican   \n",
       "34                                       Democratic   \n",
       "35                                       Democratic   \n",
       "36                                       Republican   \n",
       "37                                       Republican   \n",
       "38                                       Democratic   \n",
       "39                                       Republican   \n",
       "40                                       Republican   \n",
       "41                                       Democratic   \n",
       "42                                       Republican   \n",
       "43                                       Democratic   \n",
       "44                                       Republican   \n",
       "45                                       Democratic   \n",
       "\n",
       "                            Election  \\\n",
       "0                  1788–1789\\n\\n1792   \n",
       "1                               1796   \n",
       "2                       1800\\n\\n1804   \n",
       "3                       1808\\n\\n1812   \n",
       "4                       1816\\n\\n1820   \n",
       "5                               1824   \n",
       "6                       1828\\n\\n1832   \n",
       "7                               1836   \n",
       "8                               1840   \n",
       "9                                  –   \n",
       "10                              1844   \n",
       "11                              1848   \n",
       "12                                 –   \n",
       "13                              1852   \n",
       "14                              1856   \n",
       "15                      1860\\n\\n1864   \n",
       "16                                 –   \n",
       "17                      1868\\n\\n1872   \n",
       "18                              1876   \n",
       "19                              1880   \n",
       "20                                 –   \n",
       "21                              1884   \n",
       "22                              1888   \n",
       "23                              1892   \n",
       "24                      1896\\n\\n1900   \n",
       "25                         –\\n\\n1904   \n",
       "26                              1908   \n",
       "27                      1912\\n\\n1916   \n",
       "28                              1920   \n",
       "29                         –\\n\\n1924   \n",
       "30                              1928   \n",
       "31  1932\\n\\n1936\\n\\n\\n1940\\n\\n\\n1944   \n",
       "32                         –\\n\\n1948   \n",
       "33                      1952\\n\\n1956   \n",
       "34                              1960   \n",
       "35                         –\\n\\n1964   \n",
       "36                      1968\\n\\n1972   \n",
       "37                                 –   \n",
       "38                              1976   \n",
       "39                      1980\\n\\n1984   \n",
       "40                              1988   \n",
       "41                      1992\\n\\n1996   \n",
       "42                      2000\\n\\n2004   \n",
       "43                      2008\\n\\n2012   \n",
       "44                              2016   \n",
       "45                              2020   \n",
       "\n",
       "                                   Vice President[16]  \n",
       "0                                       John Adams[c]  \n",
       "1                                 Thomas Jefferson[d]  \n",
       "2                        Aaron Burr\\n\\nGeorge Clinton  \n",
       "3   George Clinton[e]\\n\\nVacant afterApril 20, 181...  \n",
       "4                                  Daniel D. Tompkins  \n",
       "5                                  John C. Calhoun[g]  \n",
       "6   John C. Calhoun[h]\\n\\nVacant afterDecember 28,...  \n",
       "7                              Richard Mentor Johnson  \n",
       "8                                          John Tyler  \n",
       "9                         Vacant throughoutpresidency  \n",
       "10                                   George M. Dallas  \n",
       "11                                   Millard Fillmore  \n",
       "12                        Vacant throughoutpresidency  \n",
       "13   William R. King[e]\\n\\nVacant afterApril 18, 1853  \n",
       "14                               John C. Breckinridge  \n",
       "15                  Hannibal Hamlin\\n\\nAndrew Johnson  \n",
       "16                        Vacant throughoutpresidency  \n",
       "17  Schuyler Colfax\\n\\nHenry Wilson[e]\\n\\n\\nVacant...  \n",
       "18                                 William A. Wheeler  \n",
       "19                                  Chester A. Arthur  \n",
       "20                        Vacant throughoutpresidency  \n",
       "21  Thomas A. Hendricks[e]\\n\\nVacant afterNovember...  \n",
       "22                                     Levi P. Morton  \n",
       "23                                  Adlai Stevenson I  \n",
       "24  Garret Hobart[e]\\n\\nVacant afterNovember 21, 1...  \n",
       "25  Vacant throughMarch 4, 1905\\n\\nCharles W. Fair...  \n",
       "26  James S. Sherman[e]\\n\\nVacant afterOctober 30,...  \n",
       "27                                 Thomas R. Marshall  \n",
       "28                                    Calvin Coolidge  \n",
       "29    Vacant throughMarch 4, 1925\\n\\nCharles G. Dawes  \n",
       "30                                     Charles Curtis  \n",
       "31  John Nance Garner\\n\\nHenry A. Wallace\\n\\n\\nHar...  \n",
       "32  Vacant throughJanuary 20, 1949\\n\\nAlben W. Bar...  \n",
       "33                                      Richard Nixon  \n",
       "34                                  Lyndon B. Johnson  \n",
       "35  Vacant throughJanuary 20, 1965\\n\\nHubert Humphrey  \n",
       "36  Spiro Agnew[h]\\n\\nVacant:October 10 – December...  \n",
       "37  Vacant throughDecember 19, 1974\\n\\nNelson Rock...  \n",
       "38                                     Walter Mondale  \n",
       "39                                  George H. W. Bush  \n",
       "40                                         Dan Quayle  \n",
       "41                                            Al Gore  \n",
       "42                                        Dick Cheney  \n",
       "43                                          Joe Biden  \n",
       "44                                         Mike Pence  \n",
       "45                                      Kamala Harris  "
      ]
     },
     "execution_count": 16,
     "metadata": {},
     "output_type": "execute_result"
    }
   ],
   "source": [
    "presidents_df"
   ]
  },
  {
   "cell_type": "markdown",
   "id": "a51ed667-48e2-4d42-8325-511cc76d2924",
   "metadata": {},
   "source": [
    "### Question 2: Number of Presidents"
   ]
  },
  {
   "cell_type": "code",
   "execution_count": 17,
   "id": "08077445-6811-4116-ac16-b38f353157e3",
   "metadata": {},
   "outputs": [],
   "source": [
    "num_presidents = set()"
   ]
  },
  {
   "cell_type": "code",
   "execution_count": 18,
   "id": "4272f577-81e1-4476-ba75-32a735888099",
   "metadata": {},
   "outputs": [],
   "source": [
    "for i in (presidents_df['Name(Birth–Death)']):\n",
    "    num_presidents.add(i)"
   ]
  },
  {
   "cell_type": "code",
   "execution_count": 19,
   "id": "e92e443a-4af0-4c5c-8e2e-cc8ed62042a3",
   "metadata": {},
   "outputs": [],
   "source": [
    "number = len(num_presidents)"
   ]
  },
  {
   "cell_type": "code",
   "execution_count": 20,
   "id": "8943a412-1daf-447e-b904-ca396b58f7a0",
   "metadata": {},
   "outputs": [
    {
     "name": "stdout",
     "output_type": "stream",
     "text": [
      "The number of presidents are: 45\n"
     ]
    }
   ],
   "source": [
    "print('The number of presidents are:',number)"
   ]
  },
  {
   "cell_type": "markdown",
   "id": "ec7f55f7-3a41-4626-a397-c14269cfe3ae",
   "metadata": {},
   "source": [
    "### Question 3: Number of Presidencies"
   ]
  },
  {
   "cell_type": "code",
   "execution_count": 21,
   "id": "1b706712-d810-4851-942b-fe02975fd0d3",
   "metadata": {},
   "outputs": [],
   "source": [
    "num_presidencies = presidents_df.shape[0]"
   ]
  },
  {
   "cell_type": "code",
   "execution_count": 22,
   "id": "14c9d3aa-a7de-4292-a46a-bec80141cb85",
   "metadata": {},
   "outputs": [
    {
     "name": "stdout",
     "output_type": "stream",
     "text": [
      "Number of presidencies: 46\n"
     ]
    }
   ],
   "source": [
    "print(\"Number of presidencies:\", num_presidencies)"
   ]
  },
  {
   "cell_type": "markdown",
   "id": "693733e8-0c23-45b9-bdbd-65f9ab4e00bb",
   "metadata": {},
   "source": [
    "### Question 4: Presidents Who Served More Than One Term With One Vice"
   ]
  },
  {
   "cell_type": "code",
   "execution_count": 23,
   "id": "ce1c59f5-0c5e-4bc2-b3fa-aded717a3057",
   "metadata": {},
   "outputs": [],
   "source": [
    "excellent_presidents = []"
   ]
  },
  {
   "cell_type": "code",
   "execution_count": 24,
   "id": "d61e85e4-127e-43ff-8f43-e1f042ae6f41",
   "metadata": {},
   "outputs": [],
   "source": [
    "def clean_date(date_str):\n",
    "    return date_str.split('[')[0]"
   ]
  },
  {
   "cell_type": "code",
   "execution_count": 25,
   "id": "7eb169c2-3e49-4b27-b6c1-6948805c2b9c",
   "metadata": {},
   "outputs": [],
   "source": [
    "durations = []"
   ]
  },
  {
   "cell_type": "code",
   "execution_count": 26,
   "id": "c1650903-6b72-4824-a2cc-7ccc6cd98934",
   "metadata": {},
   "outputs": [],
   "source": [
    "for term in presidents_df.loc[:,'Term[14]']:\n",
    "    start, end = term.split('–')\n",
    "    start_date = datetime.strptime(clean_date(start), \"%B %d, %Y\")\n",
    "    if end == \"Incumbent\":\n",
    "        end_date = datetime.now()\n",
    "    else:\n",
    "        end_date = datetime.strptime(clean_date(end), \"%B %d, %Y\")\n",
    "    duration = (end_date - start_date).days\n",
    "    durations.append((term, duration))"
   ]
  },
  {
   "cell_type": "code",
   "execution_count": 27,
   "id": "7f4028da-2275-4c36-83a6-5e1a6698c959",
   "metadata": {},
   "outputs": [],
   "source": [
    "for i, (term, duration) in enumerate(durations):\n",
    "    if (duration) > (1461):  # More than four years\n",
    "        current_vice = presidents_df['Vice President[16]'].tolist()[i].split('\\n\\n')\n",
    "        if len(current_vice) > 0 and len(current_vice) < 3 and current_vice[0].startswith('Vacant'):\n",
    "            current_vice.remove(current_vice[0])\n",
    "        if len(current_vice) == 1:\n",
    "                excellent_presidents.append((presidents_df['Name(Birth–Death)'].tolist()[i], current_vice[0], duration))"
   ]
  },
  {
   "cell_type": "code",
   "execution_count": 84,
   "id": "197879da-89f0-44c8-b5ac-fdce68409310",
   "metadata": {},
   "outputs": [
    {
     "name": "stdout",
     "output_type": "stream",
     "text": [
      "The presidents with one Vice President throughout their many terms are:\n",
      "George Washington(1732–1799)[17] whose vice was John Adams[c] throughout his 8 years.\n",
      "James Monroe(1758–1831)[24] whose vice was Daniel D. Tompkins throughout his 8 years.\n",
      "Theodore Roosevelt(1858–1919)[51] whose vice was Charles W. Fairbanks throughout his 7 years.\n",
      "Woodrow Wilson(1856–1924)[54] whose vice was Thomas R. Marshall throughout his 8 years.\n",
      "Calvin Coolidge(1872–1933)[56] whose vice was Charles G. Dawes throughout his 6 years.\n",
      "Harry S. Truman(1884–1972)[60] whose vice was Alben W. Barkley throughout his 8 years.\n",
      "Dwight D. Eisenhower(1890–1969)[62] whose vice was Richard Nixon throughout his 8 years.\n",
      "Lyndon B. Johnson(1908–1973)[64] whose vice was Hubert Humphrey throughout his 5 years.\n",
      "Ronald Reagan(1911–2004)[69] whose vice was George H. W. Bush throughout his 8 years.\n",
      "Bill Clinton(b. 1946)[71] whose vice was Al Gore throughout his 8 years.\n",
      "George W. Bush(b. 1946)[72] whose vice was Dick Cheney throughout his 8 years.\n",
      "Barack Obama(b. 1961)[73] whose vice was Joe Biden throughout his 8 years.\n"
     ]
    }
   ],
   "source": [
    "print(\"The presidents with one Vice President throughout their many terms are:\")\n",
    "for president, vice_president, durat in excellent_presidents:\n",
    "    print(president, 'whose vice was', vice_president, 'throughout his', round(durat/365), 'years.')"
   ]
  },
  {
   "cell_type": "markdown",
   "id": "05635346-d75e-44ce-8b96-10243e4e357d",
   "metadata": {},
   "source": [
    "### Question 5: President Who Was In Office Longest"
   ]
  },
  {
   "cell_type": "code",
   "execution_count": 29,
   "id": "9d608bba-88e6-4a74-ad48-f5a029069c7b",
   "metadata": {},
   "outputs": [],
   "source": [
    "took_office = []\n",
    "left_office = []\n",
    "took_office_years = []\n",
    "left_office_years = []"
   ]
  },
  {
   "cell_type": "code",
   "execution_count": 30,
   "id": "d94eb518-920e-4ec5-a4e7-2ec2f3cd0d60",
   "metadata": {},
   "outputs": [],
   "source": [
    "for i in presidents_df.loc[:,'Term[14]']:\n",
    "    list = i.split(\"–\")\n",
    "    took_office.append(list[0])\n",
    "    took_office_years.append(list[0].replace('[a]','').replace('[b]','').replace('[c]','').replace('[d]','').replace('[e]','').replace('[f]','').replace('[g]','').replace('[h]','').replace('[p]','').replace('[o]','').replace('[n]','').replace('[m]','').replace('[l]','').replace('[k]','').replace('[j]','').replace('[i]','').replace('[x]','').replace('[w]','').replace('[v]','').replace('[u]','').replace('[t]','').replace('[s]','').replace('[r]','').replace('[q]','').split(',')[-1])\n",
    "    left_office_years.append(list[-1].replace('[a]','').replace('[b]','').replace('[c]','').replace('[d]','').replace('[e]','').replace('[f]','').replace('[g]','').replace('[h]','').replace('[p]','').replace('[o]','').replace('[n]','').replace('[m]','').replace('[l]','').replace('[k]','').replace('[j]','').replace('[i]','').replace('[x]','').replace('[w]','').replace('[v]','').replace('[u]','').replace('[t]','').replace('[s]','').replace('[r]','').replace('[q]','').split(',')[-1])\n",
    "    left_office.append(list[1])"
   ]
  },
  {
   "cell_type": "code",
   "execution_count": 31,
   "id": "aa6784e9-5128-4686-8449-4e12ac75267f",
   "metadata": {},
   "outputs": [],
   "source": [
    "longest_term_index = max(range(len(durations)), key=lambda i: durations[i][1])\n",
    "longest_term = durations[longest_term_index]\n",
    "number_of_terms = round((longest_term[-1]/365)/4)\n",
    "times_in_office = []"
   ]
  },
  {
   "cell_type": "code",
   "execution_count": 32,
   "id": "085e9cc8-3d27-4836-82ea-3218bced99f4",
   "metadata": {},
   "outputs": [],
   "source": [
    "year_Term = 0\n",
    "for i in range(number_of_terms):\n",
    "    times_in_office.append(int(took_office[longest_term_index].split(',')[-1]) + year_Term)\n",
    "    year_Term += 4"
   ]
  },
  {
   "cell_type": "code",
   "execution_count": 33,
   "id": "3ebd778a-06b1-4fe3-9d81-d72a04c4f53d",
   "metadata": {},
   "outputs": [
    {
     "name": "stdout",
     "output_type": "stream",
     "text": [
      "The longest presidential term was from Franklin D. Roosevelt(1882–1945)[59], and the date he took office was March 4, 1933, lasting 3 terms. The times he went in office are [1933, 1937, 1941]\n"
     ]
    }
   ],
   "source": [
    "print(\"The longest presidential term was from \"\n",
    "      f\"{presidents_df.loc[:,'Name(Birth–Death)'][longest_term_index]}, and the date he took office was {took_office[longest_term_index]}, lasting {number_of_terms} terms. The times he went in office are {times_in_office}\")\n"
   ]
  },
  {
   "cell_type": "markdown",
   "id": "0cc52e74-f0bf-403d-8afd-4354996c6eba",
   "metadata": {},
   "source": [
    "### Question 6: Presidents Who Served As Vices First"
   ]
  },
  {
   "cell_type": "code",
   "execution_count": 34,
   "id": "a3fd403f-fe4b-499d-b6c1-1bd1831d2a02",
   "metadata": {},
   "outputs": [],
   "source": [
    "names3 = []\n",
    "dates3 = []"
   ]
  },
  {
   "cell_type": "code",
   "execution_count": 35,
   "id": "5a2111aa-70fe-4c87-b214-d016303fdca6",
   "metadata": {},
   "outputs": [],
   "source": [
    "for president in presidents_df['Name(Birth–Death)']:\n",
    "    name_start = president.find('(')\n",
    "    name_end = president.find(')')\n",
    "    date_start = president.find('(') + 1\n",
    "    date_end = president.find(')')\n",
    "    name = president[:name_start]\n",
    "    date = president[date_start:date_end]\n",
    "    names3.append(name)\n",
    "    dates3.append(date)"
   ]
  },
  {
   "cell_type": "code",
   "execution_count": 36,
   "id": "7f6f8871-b0eb-4191-afb0-f65fa20653b2",
   "metadata": {},
   "outputs": [],
   "source": [
    "grouped_vices = []"
   ]
  },
  {
   "cell_type": "code",
   "execution_count": 37,
   "id": "5e77c974-89fd-4920-8659-dfe8f9db9c98",
   "metadata": {},
   "outputs": [],
   "source": [
    "for i in range(len(presidents_df.loc[:,'Vice President[16]'])):\n",
    "    presidents_df.loc[:,'Vice President[16]'][i] = presidents_df.loc[:,'Vice President[16]'][i].replace('[a]','').replace('[b]','').replace('[c]','').replace('[d]','').replace('[e]','').replace('[f]','').replace('[g]','').replace('[h]','').replace('[i]','').replace('[j]','').replace('[k]','').replace('[l]','').replace('[m]','').replace('[n]','').replace('[o]','').replace('[t]','')\n",
    "    if '\\n\\n' in presidents_df.loc[:,'Vice President[16]'][i]:\n",
    "        grouped_vices.append(presidents_df.loc[:,'Vice President[16]'][i].split('\\n\\n'))\n",
    "    else:\n",
    "        grouped_vices.append([presidents_df.loc[:,'Vice President[16]'][i]])"
   ]
  },
  {
   "cell_type": "code",
   "execution_count": 38,
   "id": "6e6084e5-e6fc-4a4c-a436-338e9a526564",
   "metadata": {},
   "outputs": [],
   "source": [
    "pres_vice = []\n",
    "indices= []\n",
    "pres_vice_terms = []\n",
    "pres_term = []"
   ]
  },
  {
   "cell_type": "code",
   "execution_count": 39,
   "id": "707de8ca-7c08-4001-81b0-863b8435020e",
   "metadata": {
    "scrolled": true
   },
   "outputs": [],
   "source": [
    "for i, sublist in enumerate(grouped_vices):\n",
    "    for name in names3:\n",
    "        if name in sublist or '\\n'+name in sublist:\n",
    "            pres_vice.append(name)\n",
    "            indices.append(i)"
   ]
  },
  {
   "cell_type": "code",
   "execution_count": 40,
   "id": "e6131007-d0f7-4d90-a320-364623e1a821",
   "metadata": {},
   "outputs": [],
   "source": [
    "for i in range(len(indices)):\n",
    "    pres_vice_terms.append(dates[indices[i]])"
   ]
  },
  {
   "cell_type": "code",
   "execution_count": 41,
   "id": "cf114d88-98f8-41a3-a5a5-7658d8c09080",
   "metadata": {},
   "outputs": [],
   "source": [
    "for i, name in enumerate( names3):\n",
    "    if name in pres_vice:\n",
    "        pres_term.append(presidents_df.loc[:,'Term[14]'].tolist()[i])"
   ]
  },
  {
   "cell_type": "code",
   "execution_count": 42,
   "id": "89a4f329-bf13-482e-9584-490b5568f55d",
   "metadata": {},
   "outputs": [
    {
     "name": "stdout",
     "output_type": "stream",
     "text": [
      "The presidents who served as vices first are\n",
      "John Adams. Term as vice :April 30, 1789–March 4, 1797 . Term as President:  March 4, 1797–March 4, 1801\n",
      "Thomas Jefferson. Term as vice :March 4, 1797–March 4, 1801 . Term as President:  March 4, 1801–March 4, 1809\n",
      "Martin Van Buren. Term as vice :March 4, 1829–March 4, 1837 . Term as President:  March 4, 1837–March 4, 1841\n",
      "John Tyler. Term as vice :March 4, 1841–April 4, 1841[e] . Term as President:  April 4, 1841[i]–March 4, 1845\n",
      "Millard Fillmore. Term as vice :March 4, 1849–July 9, 1850[e] . Term as President:  July 9, 1850[k]–March 4, 1853\n",
      "Andrew Johnson. Term as vice :March 4, 1861–April 15, 1865[e] . Term as President:  April 15, 1865[m]–March 4, 1869\n",
      "Chester A. Arthur. Term as vice :March 4, 1881–September 19, 1881[e] . Term as President:  September 19, 1881[o]–March 4, 1885\n",
      "Theodore Roosevelt. Term as vice :March 4, 1897–September 14, 1901[e] . Term as President:  September 14, 1901[p]–March 4, 1909\n",
      "Calvin Coolidge. Term as vice :March 4, 1921–August 2, 1923[e] . Term as President:  August 2, 1923[q]–March 4, 1929\n",
      "Harry S. Truman. Term as vice :March 4, 1933–April 12, 1945[e] . Term as President:  April 12, 1945[r]–January 20, 1953\n",
      "Richard Nixon. Term as vice :January 20, 1953–January 20, 1961 . Term as President:  November 22, 1963[s]–January 20, 1969\n",
      "Lyndon B. Johnson. Term as vice :January 20, 1961–November 22, 1963[e] . Term as President:  January 20, 1969–August 9, 1974[h]\n",
      "Gerald Ford. Term as vice :January 20, 1969–August 9, 1974[h] . Term as President:  August 9, 1974[u]–January 20, 1977\n",
      "George H. W. Bush. Term as vice :January 20, 1981–January 20, 1989 . Term as President:  January 20, 1989–January 20, 1993\n",
      "Joe Biden. Term as vice :January 20, 2009–January 20, 2017 . Term as President:  January 20, 2021–Incumbent\n"
     ]
    }
   ],
   "source": [
    "print('The presidents who served as vices first are')\n",
    "for i in range(len(pres_vice)):\n",
    "    print(pres_vice[i] + '. Term as vice :'+ pres_vice_terms[i], '. Term as President: ', pres_term[i])"
   ]
  },
  {
   "cell_type": "markdown",
   "id": "2798ad18-c60a-4c69-b378-548c3bec114d",
   "metadata": {},
   "source": [
    "### Question 7: Presidents Who Were **Never** Elected"
   ]
  },
  {
   "cell_type": "code",
   "execution_count": 43,
   "id": "076b13d8-a64f-4042-82cf-7049ddbffce8",
   "metadata": {},
   "outputs": [],
   "source": [
    "count = 0"
   ]
  },
  {
   "cell_type": "code",
   "execution_count": 44,
   "id": "5f60583d-a745-4c7b-9688-4358838e38cb",
   "metadata": {},
   "outputs": [],
   "source": [
    "presidents_never_elect = []"
   ]
  },
  {
   "cell_type": "code",
   "execution_count": 45,
   "id": "2dfedfc9-32aa-40d6-b7fd-5f3a32e7b628",
   "metadata": {},
   "outputs": [],
   "source": [
    "for i, year in enumerate(presidents_df.loc[:,'Election']):\n",
    "    if year == '–':\n",
    "        count+=1\n",
    "        presidents_never_elect.append(presidents_df.loc[:,'Name(Birth–Death)'][i])"
   ]
  },
  {
   "cell_type": "code",
   "execution_count": 46,
   "id": "6f8d230e-ec68-4c5c-b866-34f0938772b5",
   "metadata": {},
   "outputs": [
    {
     "name": "stdout",
     "output_type": "stream",
     "text": [
      "5 presidents were never elected. And they are: \n",
      "John Tyler(1790–1862)[31]\n",
      "Millard Fillmore(1800–1874)[36]\n",
      "Andrew Johnson(1808–1875)[42]\n",
      "Chester A. Arthur(1829–1886)[46]\n",
      "Gerald Ford(1913–2006)[67]\n"
     ]
    }
   ],
   "source": [
    "print(count, 'presidents were never elected. And they are: ')\n",
    "for i in presidents_never_elect:\n",
    "    print(i)"
   ]
  },
  {
   "cell_type": "markdown",
   "id": "9eb5054a-9d2f-4b41-8618-c7056d976ac1",
   "metadata": {},
   "source": [
    "### Question 8: Presidents Who Have The Same Fore And Last Names "
   ]
  },
  {
   "cell_type": "code",
   "execution_count": 47,
   "id": "ab0f47a0-11a2-4494-970c-39f72450ef33",
   "metadata": {
    "scrolled": true
   },
   "outputs": [],
   "source": [
    "first_names = [name.split()[0] for name in names3]\n",
    "last_names = [name.split()[-1] for name in names3]"
   ]
  },
  {
   "cell_type": "code",
   "execution_count": 48,
   "id": "f2c7c0c7-f2dd-4663-b3b2-a8faf00560c2",
   "metadata": {},
   "outputs": [],
   "source": [
    "first_name_counts = {}"
   ]
  },
  {
   "cell_type": "code",
   "execution_count": 49,
   "id": "112932d0-1443-40f6-ad34-d6ec24dbe98a",
   "metadata": {},
   "outputs": [],
   "source": [
    "for name in first_names:\n",
    "    if name in first_name_counts:\n",
    "        first_name_counts[name] += 1\n",
    "    else:\n",
    "        first_name_counts[name] = 1"
   ]
  },
  {
   "cell_type": "code",
   "execution_count": 50,
   "id": "8e234f51-cdfb-4fc5-a9cc-46aac3843da8",
   "metadata": {},
   "outputs": [],
   "source": [
    "same_first_names = []"
   ]
  },
  {
   "cell_type": "code",
   "execution_count": 51,
   "id": "17e9763d-3bdb-46cd-9f2a-c2de45163bca",
   "metadata": {},
   "outputs": [],
   "source": [
    "for name, count in first_name_counts.items():\n",
    "    if count > 1:\n",
    "        same_first_names.append(name)"
   ]
  },
  {
   "cell_type": "code",
   "execution_count": 52,
   "id": "7b872d0d-007f-411c-a095-2498e1c9b74c",
   "metadata": {},
   "outputs": [],
   "source": [
    "last_name_counts = {}"
   ]
  },
  {
   "cell_type": "code",
   "execution_count": 53,
   "id": "21f94213-e951-4469-8235-cbcfedad8a11",
   "metadata": {},
   "outputs": [],
   "source": [
    "for name in last_names:\n",
    "    if name in last_name_counts:\n",
    "        last_name_counts[name] += 1\n",
    "    else:\n",
    "        last_name_counts[name] = 1"
   ]
  },
  {
   "cell_type": "code",
   "execution_count": 54,
   "id": "44d8c554-d89c-4d39-9335-8d2764528f3b",
   "metadata": {},
   "outputs": [],
   "source": [
    "same_last_names = []"
   ]
  },
  {
   "cell_type": "code",
   "execution_count": 55,
   "id": "25249a6f-d91d-4bf3-a60f-164b35aa9d70",
   "metadata": {},
   "outputs": [],
   "source": [
    "for name, count in last_name_counts.items():\n",
    "    if count > 1:\n",
    "        same_last_names.append(name)"
   ]
  },
  {
   "cell_type": "code",
   "execution_count": 56,
   "id": "d5cbdccb-dd7b-42e0-9b9c-bcd9376ee257",
   "metadata": {},
   "outputs": [],
   "source": [
    "forenames = []\n",
    "lastnames= []"
   ]
  },
  {
   "cell_type": "code",
   "execution_count": 57,
   "id": "c803d1b0-25c8-4c4b-969c-5cd91e8b4d92",
   "metadata": {},
   "outputs": [],
   "source": [
    "for president, term in zip(names3, dates):\n",
    "    name_parts = president.split()\n",
    "    first_name = name_parts[0]\n",
    "    last_name = name_parts[-1]\n",
    "    if first_name in same_first_names:\n",
    "        forenames.append((president, term))\n",
    "    if last_name in same_last_names:\n",
    "        lastnames.append((president, term))"
   ]
  },
  {
   "cell_type": "code",
   "execution_count": 58,
   "id": "639c4ca1-9fd4-4de8-81c6-b9e7989c9351",
   "metadata": {},
   "outputs": [],
   "source": [
    "fore_names_nodup = []\n",
    "last_names_nodup = []"
   ]
  },
  {
   "cell_type": "code",
   "execution_count": 59,
   "id": "7a020ef0-620f-4a18-852e-f2c6fa63c896",
   "metadata": {},
   "outputs": [],
   "source": [
    "fore = {}\n",
    "last = {}"
   ]
  },
  {
   "cell_type": "code",
   "execution_count": 60,
   "id": "00627274-a86e-4327-b211-1f092bdc0f66",
   "metadata": {},
   "outputs": [],
   "source": [
    "for president, term in forenames:\n",
    "    if president in fore:\n",
    "        fore[president] +=1\n",
    "    else:\n",
    "        fore[president] = 1"
   ]
  },
  {
   "cell_type": "code",
   "execution_count": 61,
   "id": "008ec22c-cba5-4c91-88c5-b24587b9b42a",
   "metadata": {},
   "outputs": [],
   "source": [
    "for president, term in lastnames:\n",
    "    if president in last:\n",
    "        last[president] +=1\n",
    "    else:\n",
    "        last[president] = 1"
   ]
  },
  {
   "cell_type": "code",
   "execution_count": 62,
   "id": "1f37997b-4b6e-43d1-a795-87bdbfae661b",
   "metadata": {},
   "outputs": [],
   "source": [
    "for president, term in forenames:\n",
    "    if fore[president] == 1:\n",
    "        fore_names_nodup.append((president, term))"
   ]
  },
  {
   "cell_type": "code",
   "execution_count": 63,
   "id": "c7414b98-8c2b-432f-ac71-3fe6c3a055fb",
   "metadata": {},
   "outputs": [],
   "source": [
    "for president, term in lastnames:\n",
    "    if last[president] == 1:\n",
    "        last_names_nodup.append((president, term))"
   ]
  },
  {
   "cell_type": "code",
   "execution_count": 64,
   "id": "ce65c262-5103-40e9-9c2a-4a6d88af585e",
   "metadata": {},
   "outputs": [
    {
     "name": "stdout",
     "output_type": "stream",
     "text": [
      "The presidents with same first names are: \n",
      "George Washington and the term he served was April 30, 1789–March 4, 1797 .\n",
      "John Adams and the term he served was March 4, 1797–March 4, 1801 .\n",
      "James Madison and the term he served was March 4, 1809–March 4, 1817 .\n",
      "James Monroe and the term he served was March 4, 1817–March 4, 1825 .\n",
      "John Quincy Adams and the term he served was March 4, 1825–March 4, 1829 .\n",
      "Andrew Jackson and the term he served was March 4, 1829–March 4, 1837 .\n",
      "William Henry Harrison and the term he served was March 4, 1841–April 4, 1841[e] .\n",
      "John Tyler and the term he served was April 4, 1841[i]–March 4, 1845 .\n",
      "James K. Polk and the term he served was March 4, 1845–March 4, 1849 .\n",
      "Franklin Pierce and the term he served was March 4, 1853–March 4, 1857 .\n",
      "James Buchanan and the term he served was March 4, 1857–March 4, 1861 .\n",
      "Andrew Johnson and the term he served was April 15, 1865[m]–March 4, 1869 .\n",
      "James A. Garfield and the term he served was March 4, 1881–September 19, 1881[e] .\n",
      "William McKinley and the term he served was March 4, 1897–September 14, 1901[e] .\n",
      "William Howard Taft and the term he served was March 4, 1909–March 4, 1913 .\n",
      "Franklin D. Roosevelt and the term he served was March 4, 1933–April 12, 1945[e] .\n",
      "John F. Kennedy and the term he served was January 20, 1961–November 22, 1963[e] .\n",
      "George H. W. Bush and the term he served was January 20, 1989–January 20, 1993 .\n",
      "George W. Bush and the term he served was January 20, 2001–January 20, 2009 .\n"
     ]
    }
   ],
   "source": [
    "print(\"The presidents with same first names are: \")\n",
    "for name, term in fore_names_nodup:\n",
    "    print(name, 'and the term he served was', term, '.')"
   ]
  },
  {
   "cell_type": "code",
   "execution_count": 65,
   "id": "31c64049-ae09-4134-9aec-6cd97bf10f39",
   "metadata": {},
   "outputs": [
    {
     "name": "stdout",
     "output_type": "stream",
     "text": [
      "The presidents with same last names are: \n",
      "John Adams and the term he served was March 4, 1797–March 4, 1801 .\n",
      "John Quincy Adams and the term he served was March 4, 1825–March 4, 1829 .\n",
      "William Henry Harrison and the term he served was March 4, 1841–April 4, 1841[e] .\n",
      "Andrew Johnson and the term he served was April 15, 1865[m]–March 4, 1869 .\n",
      "Benjamin Harrison and the term he served was March 4, 1889–March 4, 1893 .\n",
      "Theodore Roosevelt and the term he served was September 14, 1901[p]–March 4, 1909 .\n",
      "Franklin D. Roosevelt and the term he served was March 4, 1933–April 12, 1945[e] .\n",
      "Lyndon B. Johnson and the term he served was November 22, 1963[s]–January 20, 1969 .\n",
      "George H. W. Bush and the term he served was January 20, 1989–January 20, 1993 .\n",
      "George W. Bush and the term he served was January 20, 2001–January 20, 2009 .\n"
     ]
    }
   ],
   "source": [
    "print(\"The presidents with same last names are: \")\n",
    "for name, term in last_names_nodup:\n",
    "    print(name, 'and the term he served was', term, '.')"
   ]
  },
  {
   "cell_type": "markdown",
   "id": "0f76bbf1-601b-4ac3-97dc-1e9267a1e6e3",
   "metadata": {},
   "source": [
    "### Question 9: The Oldest President"
   ]
  },
  {
   "cell_type": "code",
   "execution_count": 66,
   "id": "1017fe0c-2fa6-4a73-9944-70f59ee64c08",
   "metadata": {},
   "outputs": [],
   "source": [
    "born = []\n",
    "dies = []"
   ]
  },
  {
   "cell_type": "code",
   "execution_count": 67,
   "id": "d8d6f43c-4e5f-4d00-9045-494cfd316af0",
   "metadata": {},
   "outputs": [],
   "source": [
    "for i in dates3:\n",
    "    if '–' in i:\n",
    "        t = i.split('–')\n",
    "        born.append(int(t[0]))\n",
    "        dies.append(int(t[-1]))\n",
    "    elif '.' in i:\n",
    "        t = i.split('.')\n",
    "        born.append(int(t[-1]))\n",
    "        dies.append(2024)"
   ]
  },
  {
   "cell_type": "code",
   "execution_count": 68,
   "id": "cbacee9f-0cdf-4a76-ae8e-3635a57496c9",
   "metadata": {},
   "outputs": [],
   "source": [
    "oldest = float('-inf')"
   ]
  },
  {
   "cell_type": "code",
   "execution_count": 69,
   "id": "dbb36c3b-e412-47c2-a712-8d19e12453d7",
   "metadata": {},
   "outputs": [],
   "source": [
    "index_high = 0"
   ]
  },
  {
   "cell_type": "code",
   "execution_count": 70,
   "id": "7b7ca070-c4ad-44d5-adfc-c8987b2a7476",
   "metadata": {},
   "outputs": [],
   "source": [
    "for i, year in enumerate(born):\n",
    "    age_at_inauguration = int(took_office_years[i]) - int(born[i])\n",
    "    if age_at_inauguration > oldest:\n",
    "        oldest = age_at_inauguration\n",
    "        index_high = i"
   ]
  },
  {
   "cell_type": "code",
   "execution_count": 71,
   "id": "30e56949-d762-4658-b50f-a95f07c9b47b",
   "metadata": {},
   "outputs": [
    {
     "name": "stdout",
     "output_type": "stream",
     "text": [
      "The name of the oldest president is:  Joe Biden(b. 1942)[13] and the year he got in office is:   2021 and the year he left office is:  Incumbent and the time spent in office is 3.361643835616438  years.\n"
     ]
    }
   ],
   "source": [
    "print('The name of the oldest president is: ',presidents_df.loc[:,'Name(Birth–Death)'][index_high] ,'and the year he got in office is:', presidents_df.loc[:,'Term[14]'][index_high].split('–')[0].split(',')[-1],'and the year he left office is: ', presidents_df.loc[:,'Term[14]'][index_high].split('–')[-1], 'and the time spent in office is', (durations[index_high])[-1]/365, ' years.' )"
   ]
  },
  {
   "cell_type": "markdown",
   "id": "35fad608-47c6-4c7f-9ce8-4cead50331c7",
   "metadata": {},
   "source": [
    "### Question 10: The Youngest President In Office"
   ]
  },
  {
   "cell_type": "code",
   "execution_count": 72,
   "id": "62f1c165-3365-4ad1-998e-54f1adbcc450",
   "metadata": {},
   "outputs": [],
   "source": [
    "youngest = float('inf')"
   ]
  },
  {
   "cell_type": "code",
   "execution_count": 73,
   "id": "2528feb6-564d-4d3f-8c3c-a572bef27a70",
   "metadata": {},
   "outputs": [],
   "source": [
    "index_low = 0"
   ]
  },
  {
   "cell_type": "code",
   "execution_count": 74,
   "id": "c883baba-359c-42a8-ac5c-c7b088f84a47",
   "metadata": {},
   "outputs": [],
   "source": [
    "for i, year in enumerate(born):\n",
    "    age_at_inauguration = int(took_office_years[i]) - int(born[i])\n",
    "    if age_at_inauguration < youngest:\n",
    "        youngest = age_at_inauguration\n",
    "        index_low = i"
   ]
  },
  {
   "cell_type": "code",
   "execution_count": 75,
   "id": "0fde7108-af0a-4c57-ad5e-8324f7289bac",
   "metadata": {},
   "outputs": [
    {
     "name": "stdout",
     "output_type": "stream",
     "text": [
      "The name of the youngest president is:  Theodore Roosevelt(1858–1919)[51] and the year he got in office is:   1901[p] and the year he left office is:  1909 and the time spent in office is 7.473972602739726  years.\n"
     ]
    }
   ],
   "source": [
    "print('The name of the youngest president is: ',presidents_df.loc[:,'Name(Birth–Death)'][index_low] ,'and the year he got in office is: ', presidents_df.loc[:,'Term[14]'][index_low].split('–')[0].split(',')[-1],'and the year he left office is:', presidents_df.loc[:,'Term[14]'][index_low].split('–')[-1].split(',')[-1], 'and the time spent in office is', (durations[index_low])[-1]/365, ' years.' )"
   ]
  },
  {
   "cell_type": "markdown",
   "id": "a8bc562d-4fda-4d6d-b1e3-27ffa8c5d514",
   "metadata": {},
   "source": [
    "### Question 11: President Who Lived Longer After Leaving Office"
   ]
  },
  {
   "cell_type": "code",
   "execution_count": 76,
   "id": "8a9cb31c-75d0-45d2-8f44-30651c1de7e7",
   "metadata": {},
   "outputs": [],
   "source": [
    "longest_lived_years = 0\n",
    "index_longest_lived = 0"
   ]
  },
  {
   "cell_type": "code",
   "execution_count": 77,
   "id": "23780309-5e31-4557-9c45-e9d3dbd5678d",
   "metadata": {},
   "outputs": [],
   "source": [
    "for i in range(len(presidents_df.loc[:,'Name(Birth–Death)'])):\n",
    "    if dies[i] != 0 and left_office_years[i] != \"Incumbent\":\n",
    "        time_lived_after_office = int(dies[i]) - int(left_office_years[i])\n",
    "        if time_lived_after_office > longest_lived_years:\n",
    "            longest_lived_years = time_lived_after_office\n",
    "            index_longest_lived = i"
   ]
  },
  {
   "cell_type": "code",
   "execution_count": 78,
   "id": "e9de7080-4be8-477a-97b1-599635ddd5ff",
   "metadata": {},
   "outputs": [
    {
     "name": "stdout",
     "output_type": "stream",
     "text": [
      "The President who lived the longest after leaving office:  Jimmy Carter(b. 1924)[68] and the time he left office is: January 20, 1981 and the time he left office till his death is 43 years.\n"
     ]
    }
   ],
   "source": [
    "print('The President who lived the longest after leaving office: ',presidents_df.loc[:,'Name(Birth–Death)'][index_longest_lived] ,'and the time he left office is:', presidents_df.loc[:,'Term[14]'][index_longest_lived].split('–')[-1], 'and the time he left office till his death is', longest_lived_years, 'years.' )"
   ]
  },
  {
   "cell_type": "markdown",
   "id": "7ad3de7a-4023-4829-a899-5b151922a213",
   "metadata": {},
   "source": [
    "### Question 12: A Bar Graph To Show The Number Of Presidents And Their Respective Political Parties"
   ]
  },
  {
   "cell_type": "code",
   "execution_count": 79,
   "id": "9b7a4f2a-dd54-4cef-982d-86c9b5bae771",
   "metadata": {},
   "outputs": [],
   "source": [
    "party_counts = {}"
   ]
  },
  {
   "cell_type": "code",
   "execution_count": 80,
   "id": "e55b4016-b33a-4e77-b7c7-6ec96bfca4b7",
   "metadata": {},
   "outputs": [],
   "source": [
    "for party in presidents_df.loc[:,'Party[b][15]']:\n",
    "    party_list = party.split('\\n\\n')\n",
    "    for i in party_list:\n",
    "        i = i.replace('[a]','').replace('[b]','').replace('[c]','').replace('[d]','').replace('[e]','').replace('[f]','').replace('[g]','').replace('[h]','').replace('[i]','').replace('[j]','').replace('[k]','').replace('[l]','').replace('[m]','').replace('[n]','').replace('[o]','').replace('[t]','')\n",
    "        if i in party_counts:\n",
    "            party_counts[i] += 1\n",
    "        else:\n",
    "            party_counts[i] = 1"
   ]
  },
  {
   "cell_type": "code",
   "execution_count": 81,
   "id": "fea02c38-523d-4c6f-8957-99a8893a8868",
   "metadata": {},
   "outputs": [],
   "source": [
    "parties = []\n",
    "counts = []\n",
    "for i in party_counts:\n",
    "    parties.append(i)"
   ]
  },
  {
   "cell_type": "code",
   "execution_count": 82,
   "id": "5dc32b01-4d4f-4cb6-b42d-b36c53a88079",
   "metadata": {},
   "outputs": [],
   "source": [
    "for i in party_counts.values():\n",
    "    counts.append(i)"
   ]
  },
  {
   "cell_type": "code",
   "execution_count": 83,
   "id": "2cfc9b10-d9cd-4ec0-a125-872e518f0b52",
   "metadata": {},
   "outputs": [
    {
     "data": {
      "image/png": "[encoded data removed]",
      "text/plain": [
       "<Figure size 1200x800 with 1 Axes>"
      ]
     },
     "metadata": {},
     "output_type": "display_data"
    }
   ],
   "source": [
    "plt.figure(figsize=(12, 8))\n",
    "bars = plt.bar(parties, counts, color='blue')\n",
    "\n",
    "most_presidents_party = max(party_counts, key=party_counts.get)\n",
    "most_presidents_count = party_counts[most_presidents_party]\n",
    "\n",
    "highest_bar = None\n",
    "for bar, party in zip(bars, parties):\n",
    "    if party == most_presidents_party:\n",
    "        bar.set_color('yellow')\n",
    "        highest_bar = bar\n",
    "\n",
    "plt.xlabel('Political Party', fontsize=14)\n",
    "plt.ylabel('Number of Presidents', fontsize=14)\n",
    "plt.title('Number of Presidents by Political Party', fontsize=16)\n",
    "plt.xticks(rotation=60, fontsize=10)\n",
    "plt.yticks(fontsize=12)\n",
    "\n",
    "if highest_bar:\n",
    "    plt.legend([highest_bar], [f\"{most_presidents_party} (Highest: {most_presidents_count} Presidents)\"], loc='upper left')\n",
    "\n",
    "plt.show()"
   ]
  }
 ],
 "metadata": {
  "kernelspec": {
   "display_name": "Python 3 (ipykernel)",
   "language": "python",
   "name": "python3"
  },
  "language_info": {
   "codemirror_mode": {
    "name": "ipython",
    "version": 3
   },
   "file_extension": ".py",
   "mimetype": "text/x-python",
   "name": "python",
   "nbconvert_exporter": "python",
   "pygments_lexer": "ipython3",
   "version": "3.11.7"
  }
 },
 "nbformat": 4,
 "nbformat_minor": 5
}
